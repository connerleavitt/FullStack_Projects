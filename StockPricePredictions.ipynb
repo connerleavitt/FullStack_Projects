{
 "cells": [
  {
   "cell_type": "code",
   "execution_count": 7,
   "metadata": {},
   "outputs": [],
   "source": [
    "#necessary libraries\n",
    "import pandas as pd \n",
    "import pandas_datareader.data as web \n", 
    "import matplotlib\n",
    "import numpy as np \n",
    "import scipy as sp \n",
    "import datetime as dt\n",
    "\n",
    "#Visualization\n",
    "import matplotlib as mpl\n",
    "import matplotlib.pyplot as plt\n",
    "import matplotlib.pylab as pylab\n",
    "import seaborn as sns\n",
    "from pandas.tools.plotting import scatter_matrix\n",
    "import missingno as msno\n",
    "\n",
    "#%matplotlib inline = show plots in Jupyter Notebook browser\n",
    "%matplotlib inline"
   ]
  },
  {
   "cell_type": "code",
   "execution_count": 14,
   "metadata": {},
   "outputs": [
    {
     "name": "stdout",
     "output_type": "stream",
     "text": [
      "                 High        Low       Open      Close      Volume  Adj Close\n",
      "Date                                                                         \n",
      "2015-01-02  47.419998  46.540001  46.660000  46.759998  27913900.0  42.262299\n",
      "2015-01-05  46.730000  46.250000  46.369999  46.330002  39673900.0  41.873657\n",
      "2015-01-06  46.750000  45.540001  46.380001  45.650002  36447900.0  41.259060\n",
      "2015-01-07  46.459999  45.490002  45.980000  46.230000  29114100.0  41.783279\n",
      "2015-01-08  47.750000  46.720001  46.750000  47.590000  29645200.0  43.012459\n",
      "(1006, 6)\n"
     ]
    }
   ],
   "source": [
    "start_date = dt.datetime(2015,1,1)\n",
    "end_date = dt.datetime(2018,12,31)\n",
    "\n",
    "df = web.DataReader('MSFT', 'yahoo', start_date, end_date)\n",
    "print(df.head())\n",
    "print(df.shape)"
   ]
  },
  {
   "cell_type": "code",
   "execution_count": 10,
   "metadata": {},
   "outputs": [
    {
     "name": "stdout",
     "output_type": "stream",
     "text": [
      "<class 'pandas.core.frame.DataFrame'>\n",
      "DatetimeIndex: 1006 entries, 2015-01-02 to 2018-12-31\n",
      "Data columns (total 6 columns):\n",
      "High         1006 non-null float64\n",
      "Low          1006 non-null float64\n",
      "Open         1006 non-null float64\n",
      "Close        1006 non-null float64\n",
      "Volume       1006 non-null float64\n",
      "Adj Close    1006 non-null float64\n",
      "dtypes: float64(6)\n",
      "memory usage: 55.0 KB\n"
     ]
    }
   ],
   "source": [
    "df.info()"
   ]
  },
  {
   "cell_type": "code",
   "execution_count": null,
   "metadata": {
    "collapsed": true
   },
   "outputs": [],
   "source": []
  }
 ],
 "metadata": {
  "kernelspec": {
   "display_name": "Python 3",
   "language": "python",
   "name": "python3"
  },
  "language_info": {
   "codemirror_mode": {
    "name": "ipython",
    "version": 3
   },
   "file_extension": ".py",
   "mimetype": "text/x-python",
   "name": "python",
   "nbconvert_exporter": "python",
   "pygments_lexer": "ipython3",
   "version": "3.6.3"
  }
 },
 "nbformat": 4,
 "nbformat_minor": 2
}
